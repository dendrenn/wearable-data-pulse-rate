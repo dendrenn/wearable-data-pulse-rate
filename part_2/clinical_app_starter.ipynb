{
 "cells": [
  {
   "cell_type": "markdown",
   "metadata": {},
   "source": [
    "## Part 2: Clinical Application\n",
    "\n",
    "### Contents\n",
    "Fill out this notebook as part 2 of your final project submission.\n",
    "\n",
    "**You will have to complete the Code (Load Metadata & Compute Resting Heart Rate) and Project Write-up sections.**  \n",
    "\n",
    "- [Code](#Code) is where you will implement some parts of the **pulse rate algorithm** you created and tested in Part 1 and already includes the starter code.\n",
    "  - [Imports](#Imports) - These are the imports needed for Part 2 of the final project. \n",
    "    - [glob](https://docs.python.org/3/library/glob.html)\n",
    "    - [os](https://docs.python.org/3/library/os.html)\n",
    "    - [numpy](https://numpy.org/)\n",
    "    - [pandas](https://pandas.pydata.org/)\n",
    "  - [Load the Dataset](#Load-the-dataset)  \n",
    "  - [Load Metadata](#Load-Metadata)\n",
    "  - [Compute Resting Heart Rate](#Compute-Resting-Heart-Rate)\n",
    "  - [Plot Resting Heart Rate vs. Age Group](#Plot-Resting-Heart-Rate-vs.-Age-Group)\n",
    "- [Project Write-up](#Project-Write-Up) to describe the clinical significance you observe from the **pulse rate algorithm** applied to this dataset, what ways/information that could improve your results, and if we validated a trend known in the science community. \n",
    "\n",
    "### Dataset (CAST)\n",
    "\n",
    "The data from this project comes from the [Cardiac Arrythmia Suppression Trial (CAST)](https://physionet.org/content/crisdb/1.0.0/), which was sponsored by the National Heart, Lung, and Blood Institute (NHLBI). CAST collected 24 hours of heart rate data from ECGs from people who have had a myocardial infarction (MI) within the past two years.<sup>1</sup> This data has been smoothed and resampled to more closely resemble PPG-derived pulse rate data from a wrist wearable.<sup>2</sup>\n",
    "\n",
    "1. **CAST RR Interval Sub-Study Database Citation** - Stein PK, Domitrovich PP, Kleiger RE, Schechtman KB, Rottman JN. Clinical and demographic determinants of heart rate variability in patients post myocardial infarction: insights from the Cardiac Arrhythmia Suppression Trial (CAST). Clin Cardiol 23(3):187-94; 2000 (Mar)\n",
    "2. **Physionet Citation** - Goldberger AL, Amaral LAN, Glass L, Hausdorff JM, Ivanov PCh, Mark RG, Mietus JE, Moody GB, Peng C-K, Stanley HE. PhysioBank, PhysioToolkit, and PhysioNet: Components of a New Research Resource for Complex Physiologic Signals (2003). Circulation. 101(23):e215-e220.\n",
    "\n",
    "-----"
   ]
  },
  {
   "cell_type": "markdown",
   "metadata": {},
   "source": [
    "### Code\n",
    "#### Imports\n",
    "\n",
    "When you implement the functions, you'll only need to you use the packages you've used in the classroom, like [Pandas](https://pandas.pydata.org/) and [Numpy](http://www.numpy.org/). These packages are imported for you here. We recommend you don't import other packages outside of the [Standard Library](https://docs.python.org/3/library/) , otherwise the grader might not be able to run your code."
   ]
  },
  {
   "cell_type": "code",
   "execution_count": 2,
   "metadata": {},
   "outputs": [],
   "source": [
    "import glob\n",
    "import os\n",
    "import numpy as np\n",
    "import pandas as pd"
   ]
  },
  {
   "cell_type": "markdown",
   "metadata": {},
   "source": [
    "#### Load the dataset\n",
    "\n",
    "The dataset is stored as [.npz](https://docs.scipy.org/doc/numpy/reference/generated/numpy.savez.html) files. Each file contains roughly 24 hours of heart rate data in the 'hr' array sampled at 1Hz. The subject ID is the name of the file. You will use these files to compute resting heart rate.\n",
    "\n",
    "Demographics metadata is stored in a file called 'metadata.csv'. This CSV has three columns, one for subject ID, age group, and sex. You will use this file to make the association between resting heart rate and age group for each gender.\n",
    "\n",
    "Find the dataset in `../datasets/crisdb/`"
   ]
  },
  {
   "cell_type": "code",
   "execution_count": 12,
   "metadata": {},
   "outputs": [
    {
     "data": {
      "text/plain": [
       "'datasets/crisdb\\\\e001a.npz'"
      ]
     },
     "execution_count": 12,
     "metadata": {},
     "output_type": "execute_result"
    }
   ],
   "source": [
    "hr_filenames = glob.glob(\"datasets/crisdb/*.npz\")\n",
    "hr_filenames[0]"
   ]
  },
  {
   "cell_type": "markdown",
   "metadata": {},
   "source": [
    "#### Load Metadata\n",
    "Load the metadata file into a datastructure that allows for easy lookups from subject ID to age group and sex."
   ]
  },
  {
   "cell_type": "code",
   "execution_count": 5,
   "metadata": {},
   "outputs": [
    {
     "data": {
      "text/html": [
       "<div>\n",
       "<style scoped>\n",
       "    .dataframe tbody tr th:only-of-type {\n",
       "        vertical-align: middle;\n",
       "    }\n",
       "\n",
       "    .dataframe tbody tr th {\n",
       "        vertical-align: top;\n",
       "    }\n",
       "\n",
       "    .dataframe thead th {\n",
       "        text-align: right;\n",
       "    }\n",
       "</style>\n",
       "<table border=\"1\" class=\"dataframe\">\n",
       "  <thead>\n",
       "    <tr style=\"text-align: right;\">\n",
       "      <th></th>\n",
       "      <th>subject</th>\n",
       "      <th>age</th>\n",
       "      <th>sex</th>\n",
       "    </tr>\n",
       "  </thead>\n",
       "  <tbody>\n",
       "    <tr>\n",
       "      <th>0</th>\n",
       "      <td>e198a</td>\n",
       "      <td>20-24</td>\n",
       "      <td>Male</td>\n",
       "    </tr>\n",
       "    <tr>\n",
       "      <th>1</th>\n",
       "      <td>e198b</td>\n",
       "      <td>20-24</td>\n",
       "      <td>Male</td>\n",
       "    </tr>\n",
       "    <tr>\n",
       "      <th>2</th>\n",
       "      <td>e028b</td>\n",
       "      <td>30-34</td>\n",
       "      <td>Male</td>\n",
       "    </tr>\n",
       "    <tr>\n",
       "      <th>3</th>\n",
       "      <td>e028a</td>\n",
       "      <td>30-34</td>\n",
       "      <td>Male</td>\n",
       "    </tr>\n",
       "    <tr>\n",
       "      <th>4</th>\n",
       "      <td>e061b</td>\n",
       "      <td>30-34</td>\n",
       "      <td>Male</td>\n",
       "    </tr>\n",
       "  </tbody>\n",
       "</table>\n",
       "</div>"
      ],
      "text/plain": [
       "  subject    age   sex\n",
       "0   e198a  20-24  Male\n",
       "1   e198b  20-24  Male\n",
       "2   e028b  30-34  Male\n",
       "3   e028a  30-34  Male\n",
       "4   e061b  30-34  Male"
      ]
     },
     "execution_count": 5,
     "metadata": {},
     "output_type": "execute_result"
    }
   ],
   "source": [
    "metadata_filename = \"datasets/crisdb/metadata.csv\"\n",
    "\n",
    "# Load the metadata file into this variable.\n",
    "# with open(metadata_filename, 'r') as f:\n",
    "    # metadata = \n",
    "\n",
    "metadata = pd.read_csv(metadata_filename)\n",
    "metadata.head()"
   ]
  },
  {
   "cell_type": "markdown",
   "metadata": {},
   "source": [
    "#### Compute Resting Heart Rate\n",
    "For each subject we want to compute the resting heart rate while keeping track of which age group this subject belongs to. An easy, robust way to compute the resting heart rate is to use the lowest 5th percentile value in the heart rate timeseries."
   ]
  },
  {
   "cell_type": "code",
   "execution_count": 69,
   "metadata": {},
   "outputs": [],
   "source": [
    "def AgeAndRHR(metadata, filename):\n",
    "\n",
    "    # Load the heart rate timeseries\n",
    "    hr_data = np.load(filename)['hr']\n",
    "    \n",
    "    # Compute the resting heart rate from the timeseries by finding the lowest 5th percentile value in hr_data\n",
    "    rhr = np.percentile(hr_data, 5)\n",
    "\n",
    "    # Find the subject ID from the filename.\n",
    "    subject = filename[16:21]\n",
    "\n",
    "    # Find the age group for this subject in metadata.\n",
    "    age_group = metadata[metadata['subject'] == subject]['age'].values[0]\n",
    "    \n",
    "    # Find the sex for this subject in metadata.\n",
    "    sex = metadata[metadata['subject'] == subject]['sex'].values[0]\n",
    "\n",
    "    return age_group, sex, rhr\n",
    "\n",
    "df = pd.DataFrame(data=[AgeAndRHR(metadata, filename) for filename in hr_filenames], columns=['age_group', 'sex', 'rhr'])\n",
    "df.head()"
   ]
  },
  {
   "cell_type": "markdown",
   "metadata": {},
   "source": [
    "#### Plot Resting Heart Rate vs. Age Group\n",
    "We'll use [seaborn](https://seaborn.pydata.org/) to plot the relationship. Seaborn is a thin wrapper around matplotlib, which we've used extensively in this class, that enables higher-level statistical plots.\n",
    "\n",
    "We will use [lineplot](https://seaborn.pydata.org/generated/seaborn.lineplot.html#seaborn.lineplot) to plot the mean of the resting heart rates for each age group along with the 95% confidence interval around the mean. Learn more about making plots that show uncertainty [here](https://seaborn.pydata.org/tutorial/relational.html#aggregation-and-representing-uncertainty)."
   ]
  },
  {
   "cell_type": "code",
   "execution_count": 71,
   "metadata": {},
   "outputs": [
    {
     "data": {
      "image/png": "[encoded data removed]",
      "text/plain": [
       "<Figure size 864x576 with 1 Axes>"
      ]
     },
     "metadata": {
      "needs_background": "light"
     },
     "output_type": "display_data"
    }
   ],
   "source": [
    "import seaborn as sns\n",
    "from matplotlib import pyplot as plt\n",
    "\n",
    "labels = sorted(np.unique(df.age_group))\n",
    "df['xaxis'] = df.age_group.map(lambda x: labels.index(x)).astype('float')\n",
    "plt.figure(figsize=(12, 8))\n",
    "sns.lineplot(x='xaxis', y='rhr', hue='sex', data=df)\n",
    "_ = plt.xticks(np.arange(len(labels)), labels)"
   ]
  },
  {
   "cell_type": "code",
   "execution_count": 84,
   "metadata": {},
   "outputs": [
    {
     "data": {
      "text/html": [
       "<div>\n",
       "<style scoped>\n",
       "    .dataframe tbody tr th:only-of-type {\n",
       "        vertical-align: middle;\n",
       "    }\n",
       "\n",
       "    .dataframe tbody tr th {\n",
       "        vertical-align: top;\n",
       "    }\n",
       "\n",
       "    .dataframe thead th {\n",
       "        text-align: right;\n",
       "    }\n",
       "</style>\n",
       "<table border=\"1\" class=\"dataframe\">\n",
       "  <thead>\n",
       "    <tr style=\"text-align: right;\">\n",
       "      <th></th>\n",
       "      <th></th>\n",
       "      <th>rhr</th>\n",
       "      <th>xaxis</th>\n",
       "    </tr>\n",
       "    <tr>\n",
       "      <th>sex</th>\n",
       "      <th>age_group</th>\n",
       "      <th></th>\n",
       "      <th></th>\n",
       "    </tr>\n",
       "  </thead>\n",
       "  <tbody>\n",
       "    <tr>\n",
       "      <th rowspan=\"9\" valign=\"top\">Female</th>\n",
       "      <th>35-39</th>\n",
       "      <td>4</td>\n",
       "      <td>4</td>\n",
       "    </tr>\n",
       "    <tr>\n",
       "      <th>40-44</th>\n",
       "      <td>8</td>\n",
       "      <td>8</td>\n",
       "    </tr>\n",
       "    <tr>\n",
       "      <th>45-49</th>\n",
       "      <td>15</td>\n",
       "      <td>15</td>\n",
       "    </tr>\n",
       "    <tr>\n",
       "      <th>50-54</th>\n",
       "      <td>18</td>\n",
       "      <td>18</td>\n",
       "    </tr>\n",
       "    <tr>\n",
       "      <th>55-59</th>\n",
       "      <td>46</td>\n",
       "      <td>46</td>\n",
       "    </tr>\n",
       "    <tr>\n",
       "      <th>60-64</th>\n",
       "      <td>67</td>\n",
       "      <td>67</td>\n",
       "    </tr>\n",
       "    <tr>\n",
       "      <th>65-69</th>\n",
       "      <td>61</td>\n",
       "      <td>61</td>\n",
       "    </tr>\n",
       "    <tr>\n",
       "      <th>70-74</th>\n",
       "      <td>39</td>\n",
       "      <td>39</td>\n",
       "    </tr>\n",
       "    <tr>\n",
       "      <th>75-79</th>\n",
       "      <td>19</td>\n",
       "      <td>19</td>\n",
       "    </tr>\n",
       "    <tr>\n",
       "      <th rowspan=\"9\" valign=\"top\">Male</th>\n",
       "      <th>35-39</th>\n",
       "      <td>24</td>\n",
       "      <td>24</td>\n",
       "    </tr>\n",
       "    <tr>\n",
       "      <th>40-44</th>\n",
       "      <td>54</td>\n",
       "      <td>54</td>\n",
       "    </tr>\n",
       "    <tr>\n",
       "      <th>45-49</th>\n",
       "      <td>109</td>\n",
       "      <td>109</td>\n",
       "    </tr>\n",
       "    <tr>\n",
       "      <th>50-54</th>\n",
       "      <td>146</td>\n",
       "      <td>146</td>\n",
       "    </tr>\n",
       "    <tr>\n",
       "      <th>55-59</th>\n",
       "      <td>215</td>\n",
       "      <td>215</td>\n",
       "    </tr>\n",
       "    <tr>\n",
       "      <th>60-64</th>\n",
       "      <td>246</td>\n",
       "      <td>246</td>\n",
       "    </tr>\n",
       "    <tr>\n",
       "      <th>65-69</th>\n",
       "      <td>230</td>\n",
       "      <td>230</td>\n",
       "    </tr>\n",
       "    <tr>\n",
       "      <th>70-74</th>\n",
       "      <td>157</td>\n",
       "      <td>157</td>\n",
       "    </tr>\n",
       "    <tr>\n",
       "      <th>75-79</th>\n",
       "      <td>79</td>\n",
       "      <td>79</td>\n",
       "    </tr>\n",
       "  </tbody>\n",
       "</table>\n",
       "</div>"
      ],
      "text/plain": [
       "                  rhr  xaxis\n",
       "sex    age_group            \n",
       "Female 35-39        4      4\n",
       "       40-44        8      8\n",
       "       45-49       15     15\n",
       "       50-54       18     18\n",
       "       55-59       46     46\n",
       "       60-64       67     67\n",
       "       65-69       61     61\n",
       "       70-74       39     39\n",
       "       75-79       19     19\n",
       "Male   35-39       24     24\n",
       "       40-44       54     54\n",
       "       45-49      109    109\n",
       "       50-54      146    146\n",
       "       55-59      215    215\n",
       "       60-64      246    246\n",
       "       65-69      230    230\n",
       "       70-74      157    157\n",
       "       75-79       79     79"
      ]
     },
     "execution_count": 84,
     "metadata": {},
     "output_type": "execute_result"
    }
   ],
   "source": [
    "df.groupby(by=['sex', 'age_group']).count()"
   ]
  },
  {
   "cell_type": "markdown",
   "metadata": {},
   "source": [
    "### Clinical Conclusion\n",
    "Answer the following prompts to draw a conclusion about the data.\n",
    "> 1. For women, we see .... \n",
    "> 2. For men, we see ... \n",
    "> 3. In comparison to men, women's heart rate is .... \n",
    "> 4. What are some possible reasons for what we see in our data?\n",
    "> 5. What else can we do or go and find to figure out what is really happening? How would that improve the results?\n",
    "> 6. Did we validate the trend that average resting heart rate increases up until middle age and then decreases into old age? How?\n",
    "\n",
    "1. For women, we see that the resting heart rate starts relatively low at ~65 BPM, aged 35-39, it then increases sharply to ~73 BPM, aged 40-44, stays high until aged 55-59, before decreasing sharply again, hitting a minimum of ~60 BPM, aged 70-74, before rising slightly again to ~62 BPM, aged 75-79\n",
    "2. For men, we see a fairly consistent and slightly downward trending resting heart rate from ~65 BPM, aged 35-39, to ~62 BPM, aged 75-79\n",
    "3. In comparison to men, women's heart rate is higher and more variable across age -- at least in this dataset\n",
    "4. Only ~22% of the data is related to women's heart rates which may help explain the higher heart rate variability seen in women across age\n",
    "5. By collecting more data, more consistent with the distribution seen in the men's data, we could decrease the variability, improve the confidence, and get a better understanding of what the true average heart rate for each age group might be\n",
    "6. No, this was not seen in the men's data and we cannot draw this conclusion from the women's data at present."
   ]
  }
 ],
 "metadata": {
  "kernelspec": {
   "display_name": "Python 3.9.6 64-bit ('3.9.6')",
   "language": "python",
   "name": "python3"
  },
  "language_info": {
   "codemirror_mode": {
    "name": "ipython",
    "version": 3
   },
   "file_extension": ".py",
   "mimetype": "text/x-python",
   "name": "python",
   "nbconvert_exporter": "python",
   "pygments_lexer": "ipython3",
   "version": "3.9.6"
  },
  "vscode": {
   "interpreter": {
    "hash": "5815d6d8a19f7ca6465268da2eba6d0a7c496a404d5f67225f883b2c22a46b3d"
   }
  }
 },
 "nbformat": 4,
 "nbformat_minor": 2
}
